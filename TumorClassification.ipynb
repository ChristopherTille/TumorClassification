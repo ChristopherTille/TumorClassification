{
 "cells": [
  {
   "cell_type": "code",
   "execution_count": null,
   "outputs": [],
   "source": [
    "!pip install tensorflow\n",
    "!pip install pillow\n",
    "!pip install matplotlib"
   ],
   "metadata": {
    "collapsed": false,
    "pycharm": {
     "name": "#%%\n"
    }
   }
  },
  {
   "cell_type": "code",
   "execution_count": null,
   "outputs": [],
   "source": [
    "import os\n",
    "import PIL\n",
    "import tensorflow\n",
    "from tensorflow.keras.preprocessing.image import ImageDataGenerator\n",
    "from keras.models import Sequential,load_model\n",
    "from keras.layers import Dense, Dropout, Flatten\n",
    "from keras.layers import Conv2D, MaxPooling2D ,BatchNormalization\n",
    "from tensorflow.keras.callbacks import EarlyStopping, ModelCheckpoint, ReduceLROnPlateau\n",
    "from keras.preprocessing import image\n",
    "from tensorflow.keras.preprocessing.image import load_img\n",
    "\n",
    "img_dir = \"..\"\n",
    "for expression in os.listdir(img_dir):\n",
    "    print(expression, \"folder contians\\t\\t\", len(os.listdir(img_dir + expression)), 'images')\n",
    "\n",
    "BATCH_SIZE = 64\n",
    "IMAGE_SIZE = 150\n",
    "input_shape = (150,150,1)\n",
    "\n",
    "Data_gen = ImageDataGenerator(rescale = 1.0/255,validation_split = 0.2)\n",
    "\n",
    "\n",
    "train_gen = Data_gen.flow_from_directory(img_dir,\n",
    "                                        target_size=(IMAGE_SIZE,IMAGE_SIZE),\n",
    "                                        batch_size = BATCH_SIZE,\n",
    "                                        color_mode= \"grayscale\",\n",
    "                                        shuffle=True,\n",
    "                                        class_mode = \"binary\",\n",
    "                                        subset = \"training\")\n",
    "\n",
    "valid_gen = Data_gen.flow_from_directory(img_dir,\n",
    "                                        target_size=(IMAGE_SIZE,IMAGE_SIZE),\n",
    "                                        batch_size = BATCH_SIZE,\n",
    "                                        color_mode= \"grayscale\",\n",
    "                                        shuffle=True,\n",
    "                                        class_mode = \"binary\",\n",
    "                                        subset = \"validation\")\n",
    "\n",
    "labels = train_gen.class_indices"
   ],
   "metadata": {
    "collapsed": false,
    "pycharm": {
     "name": "#%%\n"
    }
   }
  },
  {
   "cell_type": "code",
   "execution_count": null,
   "outputs": [],
   "source": [
    "images, labels = train_gen.next()\n",
    "\n",
    "fig, axes = plt.subplots(5, 5, figsize=(30, 10))\n",
    "axes = axes.ravel()\n",
    "for i in np.arange(0, 25):\n",
    "    axes[i].imshow(images[i], cmap='gray')\n",
    "    axes[i].set_title(labels[i])\n",
    "    axes[i].axis('off')\n",
    "plt.subplots_adjust(wspace=0.5)\n",
    "plt.show()"
   ],
   "metadata": {
    "collapsed": false,
    "pycharm": {
     "name": "#%%\n"
    }
   }
  },
  {
   "cell_type": "code",
   "execution_count": null,
   "outputs": [],
   "source": [
    "image = images[0]\n",
    "\n",
    "# Create a new figure\n",
    "fig, ax = plt.subplots()\n",
    "\n",
    "# Plot the image\n",
    "ax.imshow(image, cmap=\"gray\")\n",
    "ax.set_xticklabels([])\n",
    "ax.set_yticklabels([])\n",
    "ax.set_xticks([])\n",
    "ax.set_yticks([])\n",
    "fig.savefig('0.jpg', dpi=300)\n",
    "ax.grid(color='w', linestyle='-', linewidth=1)\n",
    "# Add a grid of all pixels on top of the image\n",
    "#nrows, ncols = image.shape[:2]\n",
    "#row, col = np.meshgrid(np.arange(nrows), np.arange(ncols), indexing='ij')\n",
    "#ax.scatter(col, row, c=image.reshape(-1, 3), s=1, alpha=0.1, cmap='gray')\n",
    "ax.set_xticks(np.arange(-0.5, 150, 1))\n",
    "ax.set_yticks(np.arange(-0.5, 150, 1))\n",
    "ax.set_xticklabels([])\n",
    "ax.set_yticklabels([])\n",
    "fig.savefig('1.jpg', dpi=300)\n",
    "# Show the plot\n",
    "plt.show()"
   ],
   "metadata": {
    "collapsed": false,
    "pycharm": {
     "name": "#%%\n"
    }
   }
  },
  {
   "cell_type": "code",
   "execution_count": null,
   "outputs": [],
   "source": [
    "model = Sequential([\n",
    "    Conv2D(32,(3,3),activation=\"relu\",input_shape=input_shape),\n",
    "    MaxPooling2D((2,2)),\n",
    "    Conv2D(64,(3,3),activation=\"relu\"),\n",
    "    MaxPooling2D((2,2)),\n",
    "    Conv2D(128,(3,3),activation=\"relu\"),\n",
    "    MaxPooling2D((2,2)),\n",
    "    Flatten(),\n",
    "    Dense(512,activation=\"relu\"),\n",
    "    Dropout(0.2),\n",
    "    Dense(1,activation=\"sigmoid\")])"
   ],
   "metadata": {
    "collapsed": false,
    "pycharm": {
     "name": "#%%\n"
    }
   }
  },
  {
   "cell_type": "code",
   "execution_count": null,
   "outputs": [],
   "source": [
    "model.compile(optimizer = tensorflow.keras.optimizers.Adam(), loss='binary_crossentropy', metrics = ['accuracy'])"
   ],
   "metadata": {
    "collapsed": false,
    "pycharm": {
     "name": "#%%\n"
    }
   }
  },
  {
   "cell_type": "code",
   "execution_count": null,
   "outputs": [],
   "source": [
    "model.summary()"
   ],
   "metadata": {
    "collapsed": false,
    "pycharm": {
     "name": "#%%\n"
    }
   }
  },
  {
   "cell_type": "code",
   "execution_count": null,
   "outputs": [],
   "source": [
    "early_stopping = tensorflow.keras.callbacks.EarlyStopping(monitor='val_loss', patience=5,restore_best_weights = True)\n",
    "checkpoint = ModelCheckpoint(\"Model.h5\", monitor='val_accuracy', verbose=1, save_best_only=True, mode='max')"
   ],
   "metadata": {
    "collapsed": false,
    "pycharm": {
     "name": "#%%\n"
    }
   }
  },
  {
   "cell_type": "code",
   "execution_count": null,
   "outputs": [],
   "source": [
    "history = model.fit(train_gen,verbose=1,callbacks = [early_stopping,checkpoint],epochs=20,validation_data=valid_gen)"
   ],
   "metadata": {
    "collapsed": false,
    "pycharm": {
     "name": "#%%\n"
    }
   }
  },
  {
   "cell_type": "code",
   "execution_count": null,
   "outputs": [],
   "source": [
    "model.load_weights('Model.h5')\n",
    "score = model.evaluate(valid_gen ,steps =( valid_gen.n // 64) + 1)\n",
    "print('\\n', 'Validation accuracy:', score[1])"
   ],
   "metadata": {
    "collapsed": false,
    "pycharm": {
     "name": "#%%\n"
    }
   }
  },
  {
   "cell_type": "code",
   "execution_count": null,
   "outputs": [],
   "source": [
    "weights = model.layers[2].get_weights()[0]\n",
    "fig, ax = plt.subplots()\n",
    "ax.imshow(np.squeeze(weights[:, :, 0, 9]), cmap='gray')\n",
    "ax.axis('off')\n",
    "fig.savefig('f210.jpg', dpi=300)\n",
    "plt.show()"
   ],
   "metadata": {
    "collapsed": false,
    "pycharm": {
     "name": "#%%\n"
    }
   }
  },
  {
   "cell_type": "code",
   "execution_count": null,
   "outputs": [],
   "source": [
    "weights = model.layers[0].get_weights()[0]\n",
    "\n",
    "# Reshape each filter to 28x28 and display as gray-scale image\n",
    "fig, axes = plt.subplots(nrows=4, ncols=8, figsize=(10, 5))\n",
    "for i in range(32):\n",
    "    row = i // 8\n",
    "    col = i % 8\n",
    "    ax = axes[row, col]\n",
    "    ax.imshow(np.squeeze(weights[:, :, 0, i]), cmap='gray')\n",
    "    ax.axis('off')\n",
    "plt.show()"
   ],
   "metadata": {
    "collapsed": false,
    "pycharm": {
     "name": "#%%\n"
    }
   }
  },
  {
   "cell_type": "code",
   "execution_count": null,
   "outputs": [],
   "source": [
    "weights = model.layers[2].get_weights()[0]\n",
    "\n",
    "# Reshape each filter to 28x28 and display as gray-scale image\n",
    "fig, axes = plt.subplots(nrows=8, ncols=8, figsize=(10, 5))\n",
    "for i in range(64):\n",
    "    row = i // 8\n",
    "    col = i % 8\n",
    "    ax = axes[row, col]\n",
    "    ax.imshow(np.squeeze(weights[:, :, 0, i]), cmap='gray')\n",
    "    ax.axis('off')\n",
    "plt.show()"
   ],
   "metadata": {
    "collapsed": false,
    "pycharm": {
     "name": "#%%\n"
    }
   }
  },
  {
   "cell_type": "code",
   "execution_count": null,
   "outputs": [],
   "source": [
    "weights = model.layers[4].get_weights()[0]\n",
    "\n",
    "# Reshape each filter to 28x28 and display as gray-scale image\n",
    "fig, axes = plt.subplots(nrows=16, ncols=8, figsize=(10, 5))\n",
    "for i in range(128):\n",
    "    row = i // 8\n",
    "    col = i % 8\n",
    "    ax = axes[row, col]\n",
    "    ax.imshow(np.squeeze(weights[:, :, 0, i]), cmap='gray')\n",
    "    ax.axis('off')\n",
    "plt.show()"
   ],
   "metadata": {
    "collapsed": false,
    "pycharm": {
     "name": "#%%\n"
    }
   }
  },
  {
   "cell_type": "code",
   "execution_count": null,
   "outputs": [],
   "source": [
    "import matplotlib.pyplot as plt\n",
    "import numpy as np\n",
    "from tensorflow.keras.models import Model\n",
    "\n",
    "# Choose the layer to visualize\n",
    "layer_name = 'conv2d_3'\n",
    "\n",
    "# Create a new model that outputs the intermediate activations of the chosen layer\n",
    "activation_model = Model(inputs=model.input, outputs=model.get_layer(layer_name).output)\n",
    "\n",
    "# Load an example image and preprocess it\n",
    "image = images[0]#plt.imread('X')\n",
    "image = np.expand_dims(image, axis=0)\n",
    "#image = image / 255.0\n",
    "\n",
    "# Predict the intermediate activations for the example image\n",
    "activations = activation_model.predict(image)\n",
    "\n",
    "# Plot the feature maps\n",
    "fig, axes = plt.subplots(nrows=4, ncols=8, figsize=(14, 7))\n",
    "for i in range(activations.shape[-1]):\n",
    "    row = i // 8\n",
    "    col = i % 8\n",
    "    ax = axes[row, col]\n",
    "    ax.imshow(activations[0, :, :, i], cmap='gray')\n",
    "    ax.axis('off')\n",
    "plt.show()\n"
   ],
   "metadata": {
    "collapsed": false,
    "pycharm": {
     "name": "#%%\n"
    }
   }
  },
  {
   "cell_type": "code",
   "execution_count": null,
   "outputs": [],
   "source": [
    "import matplotlib.pyplot as plt\n",
    "import numpy as np\n",
    "from tensorflow.keras.models import Model\n",
    "\n",
    "# Choose the layer to visualize\n",
    "layer_name = 'conv2d_20'\n",
    "\n",
    "# Create a new model that outputs the intermediate activations of the chosen layer\n",
    "activation_model = Model(inputs=model.input, outputs=model.get_layer(layer_name).output)\n",
    "\n",
    "# Load an example image and preprocess it\n",
    "image = images[25]#plt.imread('X')\n",
    "image = np.expand_dims(image, axis=0)\n",
    "#image = image / 255.0\n",
    "conv1_output = activation_model.predict(image)[0,:,:,9]\n",
    "\n",
    "# Visualize the output\n",
    "fig, ax = plt.subplots()\n",
    "ax.imshow(conv1_output, cmap='gray')\n",
    "ax.axis('off')\n",
    "fig.savefig('fmx4.jpg', dpi=300)\n",
    "\n",
    "plt.show()"
   ],
   "metadata": {
    "collapsed": false,
    "pycharm": {
     "name": "#%%\n"
    }
   }
  },
  {
   "cell_type": "code",
   "execution_count": null,
   "outputs": [],
   "source": [
    "# Load the trained model\n",
    "#model = model.load_weights('Model.h5')\n",
    "\n",
    "# Load the CIFAR-10 dataset\n",
    "valid_images, valid_labels = valid_gen.next()\n",
    "\n",
    "# Preprocess the data\n",
    "#X_test = X_test / 255.0\n",
    "\n",
    "# Make predictions on the test set\n",
    "y_pred = np.round(model.predict(valid_images))\n",
    "\n",
    "# Select 10 random examples\n",
    "#idx = np.random.choice(X_test.shape[0], size=10, replace=False)\n",
    "correct_color = 'darkgreen'\n",
    "incorrect_color = 'red'\n",
    "# Plot the examples with their true label and predicted label\n",
    "fig, axes = plt.subplots(nrows=4, ncols=5, figsize=(10, 5),gridspec_kw={'hspace': 0.75, 'wspace': 0})\n",
    "for i, ax in enumerate(axes.flat):\n",
    "    ax.imshow(valid_images[i], cmap=\"gray\")\n",
    "\n",
    "    color = correct_color if valid_labels[i] == y_pred[i][0] else incorrect_color\n",
    "    ax.set_xticks([])\n",
    "    ax.set_yticks([])\n",
    "    ax.set_title(\"True: %s \\nPredicted: %s\" % (valid_labels[i], y_pred[i][0]), color=color)\n",
    "\n",
    "fig.savefig('tf.jpg', dpi=300)\n",
    "plt.show()"
   ],
   "metadata": {
    "collapsed": false,
    "pycharm": {
     "name": "#%%\n"
    }
   }
  }
 ],
 "metadata": {
  "kernelspec": {
   "display_name": "Python 3",
   "language": "python",
   "name": "python3"
  },
  "language_info": {
   "codemirror_mode": {
    "name": "ipython",
    "version": 2
   },
   "file_extension": ".py",
   "mimetype": "text/x-python",
   "name": "python",
   "nbconvert_exporter": "python",
   "pygments_lexer": "ipython2",
   "version": "2.7.6"
  }
 },
 "nbformat": 4,
 "nbformat_minor": 0
}